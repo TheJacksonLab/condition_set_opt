{
 "cells": [
  {
   "cell_type": "code",
   "execution_count": 2,
   "metadata": {},
   "outputs": [],
   "source": [
    "# open BH file\n",
    "# create data csv with down selected reactants\n",
    "import pandas as pd\n",
    "import numpy as np"
   ]
  },
  {
   "cell_type": "code",
   "execution_count": 3,
   "metadata": {},
   "outputs": [],
   "source": [
    "data = pd.read_csv('real_datasets/buchwald-hartwig.csv')\n",
    "cond_titles = ['Catalyst','Solvent','Base']\n",
    "reactant_titles = ['Amine','Bromide']\n",
    "unique_rs = [data[r_title].unique() for r_title in reactant_titles]\n",
    "unique_conds = [data[cond_title].unique() for cond_title in cond_titles]\n",
    "titles = cond_titles + reactant_titles\n"
   ]
  },
  {
   "cell_type": "code",
   "execution_count": 4,
   "metadata": {},
   "outputs": [
    {
     "data": {
      "text/plain": [
       "[array([ 1,  2,  3,  4,  5,  6,  7,  8,  9, 10, 11, 12, 13, 14, 16, 17, 18,\n",
       "        19, 20, 21]),\n",
       " array([1, 2, 3]),\n",
       " array(['a', 'b', 'c'], dtype=object)]"
      ]
     },
     "execution_count": 4,
     "metadata": {},
     "output_type": "execute_result"
    }
   ],
   "source": [
    "unique_conds"
   ]
  },
  {
   "cell_type": "code",
   "execution_count": 8,
   "metadata": {},
   "outputs": [
    {
     "data": {
      "text/plain": [
       "[array([ 1,  2,  3,  4,  5,  6,  7,  8,  9, 10, 11, 12, 13, 14, 15, 16, 17,\n",
       "        18, 19, 20, 21, 22, 23, 24, 25, 26, 27, 28, 29, 30, 31, 32, 33, 34,\n",
       "        35, 36, 37, 38, 39, 40, 41, 42, 43, 44, 45, 46, 47, 48, 49, 50]),\n",
       " array([ 1,  2,  3,  4,  5,  6,  7,  8,  9, 10, 11, 12, 13, 14, 15, 16, 17,\n",
       "        18, 19, 20, 21, 22, 23, 24, 25, 26, 27, 28, 29, 30, 31, 32, 33, 34,\n",
       "        35, 36, 37, 38, 39, 40, 41, 42, 43, 44, 45, 46, 47, 48, 49, 50])]"
      ]
     },
     "execution_count": 8,
     "metadata": {},
     "output_type": "execute_result"
    }
   ],
   "source": [
    "unique_rs"
   ]
  },
  {
   "cell_type": "code",
   "execution_count": 19,
   "metadata": {},
   "outputs": [],
   "source": [
    "r1 = np.random.choice(unique_rs[0], 25, replace=False)\n",
    "r2 = np.random.choice(unique_rs[1], 25, replace=False)"
   ]
  },
  {
   "cell_type": "code",
   "execution_count": 20,
   "metadata": {},
   "outputs": [],
   "source": [
    "r1.sort()\n",
    "r2.sort()"
   ]
  },
  {
   "cell_type": "code",
   "execution_count": 21,
   "metadata": {},
   "outputs": [
    {
     "data": {
      "text/plain": [
       "array([ 2,  3,  5,  9, 12, 13, 14, 16, 17, 18, 19, 20, 23, 25, 28, 29, 32,\n",
       "       33, 34, 35, 36, 37, 41, 44, 48])"
      ]
     },
     "execution_count": 21,
     "metadata": {},
     "output_type": "execute_result"
    }
   ],
   "source": [
    "r2"
   ]
  },
  {
   "cell_type": "code",
   "execution_count": 22,
   "metadata": {},
   "outputs": [
    {
     "data": {
      "text/plain": [
       "array([ 3,  6, 12, 14, 15, 17, 18, 19, 20, 21, 22, 24, 26, 29, 31, 32, 33,\n",
       "       37, 39, 42, 44, 46, 47, 48, 50])"
      ]
     },
     "execution_count": 22,
     "metadata": {},
     "output_type": "execute_result"
    }
   ],
   "source": [
    "r1"
   ]
  },
  {
   "cell_type": "code",
   "execution_count": 23,
   "metadata": {},
   "outputs": [],
   "source": [
    "pd_r_subset = data.loc[data['Amine'].isin(r1) & data['Bromide'].isin(r2)]"
   ]
  },
  {
   "cell_type": "code",
   "execution_count": 24,
   "metadata": {},
   "outputs": [
    {
     "data": {
      "text/html": [
       "<div>\n",
       "<style scoped>\n",
       "    .dataframe tbody tr th:only-of-type {\n",
       "        vertical-align: middle;\n",
       "    }\n",
       "\n",
       "    .dataframe tbody tr th {\n",
       "        vertical-align: top;\n",
       "    }\n",
       "\n",
       "    .dataframe thead th {\n",
       "        text-align: right;\n",
       "    }\n",
       "</style>\n",
       "<table border=\"1\" class=\"dataframe\">\n",
       "  <thead>\n",
       "    <tr style=\"text-align: right;\">\n",
       "      <th></th>\n",
       "      <th>Amine</th>\n",
       "      <th>Bromide</th>\n",
       "      <th>Catalyst</th>\n",
       "      <th>Solvent</th>\n",
       "      <th>Base</th>\n",
       "      <th>yield</th>\n",
       "    </tr>\n",
       "  </thead>\n",
       "  <tbody>\n",
       "    <tr>\n",
       "      <th>18180</th>\n",
       "      <td>3</td>\n",
       "      <td>2</td>\n",
       "      <td>1</td>\n",
       "      <td>1</td>\n",
       "      <td>a</td>\n",
       "      <td>51.936035</td>\n",
       "    </tr>\n",
       "    <tr>\n",
       "      <th>18181</th>\n",
       "      <td>3</td>\n",
       "      <td>2</td>\n",
       "      <td>1</td>\n",
       "      <td>1</td>\n",
       "      <td>b</td>\n",
       "      <td>63.590748</td>\n",
       "    </tr>\n",
       "    <tr>\n",
       "      <th>18182</th>\n",
       "      <td>3</td>\n",
       "      <td>2</td>\n",
       "      <td>1</td>\n",
       "      <td>1</td>\n",
       "      <td>c</td>\n",
       "      <td>7.936288</td>\n",
       "    </tr>\n",
       "    <tr>\n",
       "      <th>18183</th>\n",
       "      <td>3</td>\n",
       "      <td>2</td>\n",
       "      <td>1</td>\n",
       "      <td>2</td>\n",
       "      <td>a</td>\n",
       "      <td>63.044823</td>\n",
       "    </tr>\n",
       "    <tr>\n",
       "      <th>18184</th>\n",
       "      <td>3</td>\n",
       "      <td>2</td>\n",
       "      <td>1</td>\n",
       "      <td>2</td>\n",
       "      <td>b</td>\n",
       "      <td>74.916670</td>\n",
       "    </tr>\n",
       "    <tr>\n",
       "      <th>...</th>\n",
       "      <td>...</td>\n",
       "      <td>...</td>\n",
       "      <td>...</td>\n",
       "      <td>...</td>\n",
       "      <td>...</td>\n",
       "      <td>...</td>\n",
       "    </tr>\n",
       "    <tr>\n",
       "      <th>449635</th>\n",
       "      <td>50</td>\n",
       "      <td>48</td>\n",
       "      <td>21</td>\n",
       "      <td>2</td>\n",
       "      <td>b</td>\n",
       "      <td>49.658880</td>\n",
       "    </tr>\n",
       "    <tr>\n",
       "      <th>449636</th>\n",
       "      <td>50</td>\n",
       "      <td>48</td>\n",
       "      <td>21</td>\n",
       "      <td>2</td>\n",
       "      <td>c</td>\n",
       "      <td>0.449201</td>\n",
       "    </tr>\n",
       "    <tr>\n",
       "      <th>449637</th>\n",
       "      <td>50</td>\n",
       "      <td>48</td>\n",
       "      <td>21</td>\n",
       "      <td>3</td>\n",
       "      <td>a</td>\n",
       "      <td>3.983429</td>\n",
       "    </tr>\n",
       "    <tr>\n",
       "      <th>449638</th>\n",
       "      <td>50</td>\n",
       "      <td>48</td>\n",
       "      <td>21</td>\n",
       "      <td>3</td>\n",
       "      <td>b</td>\n",
       "      <td>64.038760</td>\n",
       "    </tr>\n",
       "    <tr>\n",
       "      <th>449639</th>\n",
       "      <td>50</td>\n",
       "      <td>48</td>\n",
       "      <td>21</td>\n",
       "      <td>3</td>\n",
       "      <td>c</td>\n",
       "      <td>0.519896</td>\n",
       "    </tr>\n",
       "  </tbody>\n",
       "</table>\n",
       "<p>112500 rows × 6 columns</p>\n",
       "</div>"
      ],
      "text/plain": [
       "        Amine  Bromide  Catalyst  Solvent Base      yield\n",
       "18180       3        2         1        1    a  51.936035\n",
       "18181       3        2         1        1    b  63.590748\n",
       "18182       3        2         1        1    c   7.936288\n",
       "18183       3        2         1        2    a  63.044823\n",
       "18184       3        2         1        2    b  74.916670\n",
       "...       ...      ...       ...      ...  ...        ...\n",
       "449635     50       48        21        2    b  49.658880\n",
       "449636     50       48        21        2    c   0.449201\n",
       "449637     50       48        21        3    a   3.983429\n",
       "449638     50       48        21        3    b  64.038760\n",
       "449639     50       48        21        3    c   0.519896\n",
       "\n",
       "[112500 rows x 6 columns]"
      ]
     },
     "execution_count": 24,
     "metadata": {},
     "output_type": "execute_result"
    }
   ],
   "source": [
    "pd_r_subset"
   ]
  },
  {
   "cell_type": "code",
   "execution_count": 25,
   "metadata": {},
   "outputs": [],
   "source": [
    "pd_r_subset.to_csv('real_datasets/buchwald-hartwig_rxn_subset_1.csv', index=False)"
   ]
  },
  {
   "cell_type": "code",
   "execution_count": 28,
   "metadata": {},
   "outputs": [
    {
     "data": {
      "text/plain": [
       "20"
      ]
     },
     "execution_count": 28,
     "metadata": {},
     "output_type": "execute_result"
    }
   ],
   "source": [
    "len(unique_conds[0])"
   ]
  },
  {
   "cell_type": "code",
   "execution_count": 36,
   "metadata": {},
   "outputs": [],
   "source": [
    "c1 = np.random.choice(unique_conds[0], 14, replace=False)\n",
    "c2 = [1]\n",
    "c3 = [1]"
   ]
  },
  {
   "cell_type": "code",
   "execution_count": 37,
   "metadata": {},
   "outputs": [
    {
     "data": {
      "text/plain": [
       "array([ 1,  2,  3,  4,  5,  6,  7,  9, 13, 14, 16, 18, 19, 20])"
      ]
     },
     "execution_count": 37,
     "metadata": {},
     "output_type": "execute_result"
    }
   ],
   "source": [
    "c1.sort()\n",
    "c1"
   ]
  },
  {
   "cell_type": "code",
   "execution_count": 40,
   "metadata": {},
   "outputs": [
    {
     "data": {
      "text/plain": [
       "[array([ 1,  2,  3,  4,  5,  6,  7,  8,  9, 10, 11, 12, 13, 14, 16, 17, 18,\n",
       "        19, 20, 21]),\n",
       " array([1, 2, 3]),\n",
       " array(['a', 'b', 'c'], dtype=object)]"
      ]
     },
     "execution_count": 40,
     "metadata": {},
     "output_type": "execute_result"
    }
   ],
   "source": [
    "unique_conds"
   ]
  },
  {
   "cell_type": "code",
   "execution_count": 41,
   "metadata": {},
   "outputs": [],
   "source": [
    "c2 = [2]\n",
    "c3 = ['b']"
   ]
  },
  {
   "cell_type": "code",
   "execution_count": 42,
   "metadata": {},
   "outputs": [],
   "source": [
    "pd_c_subset = data.loc[data['Catalyst'].isin(c1) & data['Base'].isin(c3) & data['Solvent'].isin(c2)]"
   ]
  },
  {
   "cell_type": "code",
   "execution_count": 43,
   "metadata": {},
   "outputs": [
    {
     "data": {
      "text/html": [
       "<div>\n",
       "<style scoped>\n",
       "    .dataframe tbody tr th:only-of-type {\n",
       "        vertical-align: middle;\n",
       "    }\n",
       "\n",
       "    .dataframe tbody tr th {\n",
       "        vertical-align: top;\n",
       "    }\n",
       "\n",
       "    .dataframe thead th {\n",
       "        text-align: right;\n",
       "    }\n",
       "</style>\n",
       "<table border=\"1\" class=\"dataframe\">\n",
       "  <thead>\n",
       "    <tr style=\"text-align: right;\">\n",
       "      <th></th>\n",
       "      <th>Amine</th>\n",
       "      <th>Bromide</th>\n",
       "      <th>Catalyst</th>\n",
       "      <th>Solvent</th>\n",
       "      <th>Base</th>\n",
       "      <th>yield</th>\n",
       "    </tr>\n",
       "  </thead>\n",
       "  <tbody>\n",
       "    <tr>\n",
       "      <th>4</th>\n",
       "      <td>1</td>\n",
       "      <td>1</td>\n",
       "      <td>1</td>\n",
       "      <td>2</td>\n",
       "      <td>b</td>\n",
       "      <td>2.549122</td>\n",
       "    </tr>\n",
       "    <tr>\n",
       "      <th>13</th>\n",
       "      <td>1</td>\n",
       "      <td>1</td>\n",
       "      <td>2</td>\n",
       "      <td>2</td>\n",
       "      <td>b</td>\n",
       "      <td>2.080713</td>\n",
       "    </tr>\n",
       "    <tr>\n",
       "      <th>22</th>\n",
       "      <td>1</td>\n",
       "      <td>1</td>\n",
       "      <td>3</td>\n",
       "      <td>2</td>\n",
       "      <td>b</td>\n",
       "      <td>-0.447913</td>\n",
       "    </tr>\n",
       "    <tr>\n",
       "      <th>31</th>\n",
       "      <td>1</td>\n",
       "      <td>1</td>\n",
       "      <td>4</td>\n",
       "      <td>2</td>\n",
       "      <td>b</td>\n",
       "      <td>1.472128</td>\n",
       "    </tr>\n",
       "    <tr>\n",
       "      <th>40</th>\n",
       "      <td>1</td>\n",
       "      <td>1</td>\n",
       "      <td>5</td>\n",
       "      <td>2</td>\n",
       "      <td>b</td>\n",
       "      <td>0.279046</td>\n",
       "    </tr>\n",
       "    <tr>\n",
       "      <th>...</th>\n",
       "      <td>...</td>\n",
       "      <td>...</td>\n",
       "      <td>...</td>\n",
       "      <td>...</td>\n",
       "      <td>...</td>\n",
       "      <td>...</td>\n",
       "    </tr>\n",
       "    <tr>\n",
       "      <th>449941</th>\n",
       "      <td>50</td>\n",
       "      <td>50</td>\n",
       "      <td>14</td>\n",
       "      <td>2</td>\n",
       "      <td>b</td>\n",
       "      <td>18.077124</td>\n",
       "    </tr>\n",
       "    <tr>\n",
       "      <th>449950</th>\n",
       "      <td>50</td>\n",
       "      <td>50</td>\n",
       "      <td>16</td>\n",
       "      <td>2</td>\n",
       "      <td>b</td>\n",
       "      <td>12.807747</td>\n",
       "    </tr>\n",
       "    <tr>\n",
       "      <th>449968</th>\n",
       "      <td>50</td>\n",
       "      <td>50</td>\n",
       "      <td>18</td>\n",
       "      <td>2</td>\n",
       "      <td>b</td>\n",
       "      <td>9.830745</td>\n",
       "    </tr>\n",
       "    <tr>\n",
       "      <th>449977</th>\n",
       "      <td>50</td>\n",
       "      <td>50</td>\n",
       "      <td>19</td>\n",
       "      <td>2</td>\n",
       "      <td>b</td>\n",
       "      <td>19.725000</td>\n",
       "    </tr>\n",
       "    <tr>\n",
       "      <th>449986</th>\n",
       "      <td>50</td>\n",
       "      <td>50</td>\n",
       "      <td>20</td>\n",
       "      <td>2</td>\n",
       "      <td>b</td>\n",
       "      <td>53.420600</td>\n",
       "    </tr>\n",
       "  </tbody>\n",
       "</table>\n",
       "<p>35000 rows × 6 columns</p>\n",
       "</div>"
      ],
      "text/plain": [
       "        Amine  Bromide  Catalyst  Solvent Base      yield\n",
       "4           1        1         1        2    b   2.549122\n",
       "13          1        1         2        2    b   2.080713\n",
       "22          1        1         3        2    b  -0.447913\n",
       "31          1        1         4        2    b   1.472128\n",
       "40          1        1         5        2    b   0.279046\n",
       "...       ...      ...       ...      ...  ...        ...\n",
       "449941     50       50        14        2    b  18.077124\n",
       "449950     50       50        16        2    b  12.807747\n",
       "449968     50       50        18        2    b   9.830745\n",
       "449977     50       50        19        2    b  19.725000\n",
       "449986     50       50        20        2    b  53.420600\n",
       "\n",
       "[35000 rows x 6 columns]"
      ]
     },
     "execution_count": 43,
     "metadata": {},
     "output_type": "execute_result"
    }
   ],
   "source": [
    "pd_c_subset"
   ]
  },
  {
   "cell_type": "code",
   "execution_count": 44,
   "metadata": {},
   "outputs": [],
   "source": [
    "pd_c_subset.to_csv('real_datasets/buchwald-hartwig_cond_subset_1.csv', index=False)"
   ]
  },
  {
   "cell_type": "code",
   "execution_count": 45,
   "metadata": {},
   "outputs": [],
   "source": [
    "pd_both_subset = data.loc[data['Catalyst'].isin(c1) & data['Base'].isin(c3) & data['Solvent'].isin(c2) & data['Amine'].isin(r1) & data['Bromide'].isin(r2)]"
   ]
  },
  {
   "cell_type": "code",
   "execution_count": 46,
   "metadata": {},
   "outputs": [
    {
     "data": {
      "text/html": [
       "<div>\n",
       "<style scoped>\n",
       "    .dataframe tbody tr th:only-of-type {\n",
       "        vertical-align: middle;\n",
       "    }\n",
       "\n",
       "    .dataframe tbody tr th {\n",
       "        vertical-align: top;\n",
       "    }\n",
       "\n",
       "    .dataframe thead th {\n",
       "        text-align: right;\n",
       "    }\n",
       "</style>\n",
       "<table border=\"1\" class=\"dataframe\">\n",
       "  <thead>\n",
       "    <tr style=\"text-align: right;\">\n",
       "      <th></th>\n",
       "      <th>Amine</th>\n",
       "      <th>Bromide</th>\n",
       "      <th>Catalyst</th>\n",
       "      <th>Solvent</th>\n",
       "      <th>Base</th>\n",
       "      <th>yield</th>\n",
       "    </tr>\n",
       "  </thead>\n",
       "  <tbody>\n",
       "    <tr>\n",
       "      <th>18184</th>\n",
       "      <td>3</td>\n",
       "      <td>2</td>\n",
       "      <td>1</td>\n",
       "      <td>2</td>\n",
       "      <td>b</td>\n",
       "      <td>74.916670</td>\n",
       "    </tr>\n",
       "    <tr>\n",
       "      <th>18193</th>\n",
       "      <td>3</td>\n",
       "      <td>2</td>\n",
       "      <td>2</td>\n",
       "      <td>2</td>\n",
       "      <td>b</td>\n",
       "      <td>91.927140</td>\n",
       "    </tr>\n",
       "    <tr>\n",
       "      <th>18202</th>\n",
       "      <td>3</td>\n",
       "      <td>2</td>\n",
       "      <td>3</td>\n",
       "      <td>2</td>\n",
       "      <td>b</td>\n",
       "      <td>19.529602</td>\n",
       "    </tr>\n",
       "    <tr>\n",
       "      <th>18211</th>\n",
       "      <td>3</td>\n",
       "      <td>2</td>\n",
       "      <td>4</td>\n",
       "      <td>2</td>\n",
       "      <td>b</td>\n",
       "      <td>40.366356</td>\n",
       "    </tr>\n",
       "    <tr>\n",
       "      <th>18220</th>\n",
       "      <td>3</td>\n",
       "      <td>2</td>\n",
       "      <td>5</td>\n",
       "      <td>2</td>\n",
       "      <td>b</td>\n",
       "      <td>58.260160</td>\n",
       "    </tr>\n",
       "    <tr>\n",
       "      <th>...</th>\n",
       "      <td>...</td>\n",
       "      <td>...</td>\n",
       "      <td>...</td>\n",
       "      <td>...</td>\n",
       "      <td>...</td>\n",
       "      <td>...</td>\n",
       "    </tr>\n",
       "    <tr>\n",
       "      <th>449581</th>\n",
       "      <td>50</td>\n",
       "      <td>48</td>\n",
       "      <td>14</td>\n",
       "      <td>2</td>\n",
       "      <td>b</td>\n",
       "      <td>4.134604</td>\n",
       "    </tr>\n",
       "    <tr>\n",
       "      <th>449590</th>\n",
       "      <td>50</td>\n",
       "      <td>48</td>\n",
       "      <td>16</td>\n",
       "      <td>2</td>\n",
       "      <td>b</td>\n",
       "      <td>10.804010</td>\n",
       "    </tr>\n",
       "    <tr>\n",
       "      <th>449608</th>\n",
       "      <td>50</td>\n",
       "      <td>48</td>\n",
       "      <td>18</td>\n",
       "      <td>2</td>\n",
       "      <td>b</td>\n",
       "      <td>7.800378</td>\n",
       "    </tr>\n",
       "    <tr>\n",
       "      <th>449617</th>\n",
       "      <td>50</td>\n",
       "      <td>48</td>\n",
       "      <td>19</td>\n",
       "      <td>2</td>\n",
       "      <td>b</td>\n",
       "      <td>16.522871</td>\n",
       "    </tr>\n",
       "    <tr>\n",
       "      <th>449626</th>\n",
       "      <td>50</td>\n",
       "      <td>48</td>\n",
       "      <td>20</td>\n",
       "      <td>2</td>\n",
       "      <td>b</td>\n",
       "      <td>53.394140</td>\n",
       "    </tr>\n",
       "  </tbody>\n",
       "</table>\n",
       "<p>8750 rows × 6 columns</p>\n",
       "</div>"
      ],
      "text/plain": [
       "        Amine  Bromide  Catalyst  Solvent Base      yield\n",
       "18184       3        2         1        2    b  74.916670\n",
       "18193       3        2         2        2    b  91.927140\n",
       "18202       3        2         3        2    b  19.529602\n",
       "18211       3        2         4        2    b  40.366356\n",
       "18220       3        2         5        2    b  58.260160\n",
       "...       ...      ...       ...      ...  ...        ...\n",
       "449581     50       48        14        2    b   4.134604\n",
       "449590     50       48        16        2    b  10.804010\n",
       "449608     50       48        18        2    b   7.800378\n",
       "449617     50       48        19        2    b  16.522871\n",
       "449626     50       48        20        2    b  53.394140\n",
       "\n",
       "[8750 rows x 6 columns]"
      ]
     },
     "execution_count": 46,
     "metadata": {},
     "output_type": "execute_result"
    }
   ],
   "source": [
    "pd_both_subset"
   ]
  },
  {
   "cell_type": "code",
   "execution_count": 47,
   "metadata": {},
   "outputs": [],
   "source": [
    "pd_both_subset.to_csv('real_datasets/buchwald-hartwig_both_subset_1.csv', index=False)"
   ]
  }
 ],
 "metadata": {
  "kernelspec": {
   "display_name": "cond_set",
   "language": "python",
   "name": "python3"
  },
  "language_info": {
   "codemirror_mode": {
    "name": "ipython",
    "version": 3
   },
   "file_extension": ".py",
   "mimetype": "text/x-python",
   "name": "python",
   "nbconvert_exporter": "python",
   "pygments_lexer": "ipython3",
   "version": "3.12.3"
  }
 },
 "nbformat": 4,
 "nbformat_minor": 2
}
