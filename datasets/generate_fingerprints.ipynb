{
 "cells": [
  {
   "cell_type": "code",
   "execution_count": 1,
   "metadata": {},
   "outputs": [],
   "source": [
    "import rdkit.Chem as Chem\n",
    "import pandas as pd"
   ]
  },
  {
   "cell_type": "code",
   "execution_count": 2,
   "metadata": {},
   "outputs": [],
   "source": [
    "# load in the dataset smiles\n",
    "# for all smiles, generate finger prints\n",
    "# save fingerprints in a file\n",
    "df = pd.read_csv('real_datasets/aryl-scope-ligand.csv')"
   ]
  },
  {
   "cell_type": "code",
   "execution_count": 3,
   "metadata": {},
   "outputs": [],
   "source": [
    "ligand_fingerprints = df.ligand_smiles.apply(lambda x: Chem.RDKFingerprint(Chem.MolFromSmiles(x)))"
   ]
  },
  {
   "cell_type": "code",
   "execution_count": 4,
   "metadata": {},
   "outputs": [
    {
     "data": {
      "text/plain": [
       "0       [1, 0, 1, 0, 0, 0, 0, 0, 0, 0, 0, 1, 0, 0, 0, ...\n",
       "1       [1, 1, 1, 1, 0, 0, 0, 1, 0, 0, 0, 1, 0, 1, 0, ...\n",
       "2       [1, 1, 0, 1, 0, 1, 0, 0, 0, 0, 0, 1, 0, 0, 0, ...\n",
       "3       [0, 0, 0, 0, 1, 1, 0, 0, 1, 0, 1, 1, 0, 0, 0, ...\n",
       "4       [1, 1, 1, 1, 1, 0, 0, 0, 0, 0, 0, 1, 0, 0, 0, ...\n",
       "                              ...                        \n",
       "1531    [0, 0, 0, 0, 0, 1, 0, 0, 0, 0, 0, 1, 0, 0, 0, ...\n",
       "1532    [1, 0, 1, 0, 0, 0, 1, 1, 1, 0, 0, 1, 1, 0, 1, ...\n",
       "1533    [0, 0, 0, 0, 0, 0, 0, 0, 0, 0, 0, 0, 0, 0, 0, ...\n",
       "1534    [1, 1, 1, 1, 0, 0, 0, 1, 0, 0, 0, 1, 0, 0, 0, ...\n",
       "1535    [0, 0, 0, 0, 0, 1, 0, 0, 0, 0, 0, 0, 0, 0, 0, ...\n",
       "Name: ligand_smiles, Length: 1536, dtype: object"
      ]
     },
     "execution_count": 4,
     "metadata": {},
     "output_type": "execute_result"
    }
   ],
   "source": [
    "ligand_fingerprints"
   ]
  },
  {
   "cell_type": "code",
   "execution_count": 5,
   "metadata": {},
   "outputs": [],
   "source": [
    "electro_fingerprints = df.electrophile_smiles.apply(lambda x: Chem.RDKFingerprint(Chem.MolFromSmiles(x)))"
   ]
  },
  {
   "cell_type": "code",
   "execution_count": 6,
   "metadata": {},
   "outputs": [
    {
     "data": {
      "text/plain": [
       "0       [1, 0, 0, 0, 0, 1, 0, 0, 1, 1, 0, 1, 0, 0, 0, ...\n",
       "1       [1, 0, 0, 0, 0, 1, 0, 0, 1, 1, 0, 1, 0, 0, 0, ...\n",
       "2       [1, 0, 0, 0, 0, 1, 0, 0, 1, 1, 0, 1, 0, 0, 0, ...\n",
       "3       [1, 0, 0, 0, 0, 1, 0, 0, 1, 1, 0, 1, 0, 0, 0, ...\n",
       "4       [1, 0, 0, 0, 0, 1, 0, 0, 1, 1, 0, 1, 0, 0, 0, ...\n",
       "                              ...                        \n",
       "1531    [0, 1, 0, 1, 0, 0, 0, 0, 0, 0, 0, 0, 0, 0, 0, ...\n",
       "1532    [0, 1, 0, 1, 0, 0, 0, 0, 0, 0, 0, 0, 0, 0, 0, ...\n",
       "1533    [0, 1, 0, 1, 0, 0, 0, 0, 0, 0, 0, 0, 0, 0, 0, ...\n",
       "1534    [0, 1, 0, 1, 0, 0, 0, 0, 0, 0, 0, 0, 0, 0, 0, ...\n",
       "1535    [0, 1, 0, 1, 0, 0, 0, 0, 0, 0, 0, 0, 0, 0, 0, ...\n",
       "Name: electrophile_smiles, Length: 1536, dtype: object"
      ]
     },
     "execution_count": 6,
     "metadata": {},
     "output_type": "execute_result"
    }
   ],
   "source": [
    "electro_fingerprints"
   ]
  },
  {
   "cell_type": "code",
   "execution_count": 7,
   "metadata": {},
   "outputs": [],
   "source": [
    "nucle_fingerprints = df.nucleophile_smiles.apply(lambda x: Chem.RDKFingerprint(Chem.MolFromSmiles(x)))"
   ]
  },
  {
   "cell_type": "code",
   "execution_count": 8,
   "metadata": {},
   "outputs": [
    {
     "data": {
      "text/plain": [
       "0       [0, 0, 0, 0, 0, 1, 0, 0, 0, 0, 0, 0, 0, 0, 0, ...\n",
       "1       [0, 0, 0, 0, 0, 1, 0, 0, 0, 0, 0, 0, 0, 0, 0, ...\n",
       "2       [0, 0, 0, 0, 0, 1, 0, 0, 0, 0, 0, 0, 0, 0, 0, ...\n",
       "3       [0, 0, 0, 0, 0, 1, 0, 0, 0, 0, 0, 0, 0, 0, 0, ...\n",
       "4       [0, 0, 0, 0, 0, 1, 0, 0, 0, 0, 0, 0, 0, 0, 0, ...\n",
       "                              ...                        \n",
       "1531    [0, 0, 0, 0, 0, 1, 1, 0, 0, 0, 0, 0, 0, 1, 0, ...\n",
       "1532    [0, 0, 0, 0, 0, 1, 1, 0, 0, 0, 0, 0, 0, 1, 0, ...\n",
       "1533    [0, 0, 0, 0, 0, 1, 1, 0, 0, 0, 0, 0, 0, 1, 0, ...\n",
       "1534    [0, 0, 0, 0, 0, 1, 1, 0, 0, 0, 0, 0, 0, 1, 0, ...\n",
       "1535    [0, 0, 0, 0, 0, 1, 1, 0, 0, 0, 0, 0, 0, 1, 0, ...\n",
       "Name: nucleophile_smiles, Length: 1536, dtype: object"
      ]
     },
     "execution_count": 8,
     "metadata": {},
     "output_type": "execute_result"
    }
   ],
   "source": [
    "nucle_fingerprints"
   ]
  },
  {
   "cell_type": "code",
   "execution_count": 9,
   "metadata": {},
   "outputs": [
    {
     "data": {
      "text/html": [
       "<div>\n",
       "<style scoped>\n",
       "    .dataframe tbody tr th:only-of-type {\n",
       "        vertical-align: middle;\n",
       "    }\n",
       "\n",
       "    .dataframe tbody tr th {\n",
       "        vertical-align: top;\n",
       "    }\n",
       "\n",
       "    .dataframe thead th {\n",
       "        text-align: right;\n",
       "    }\n",
       "</style>\n",
       "<table border=\"1\" class=\"dataframe\">\n",
       "  <thead>\n",
       "    <tr style=\"text-align: right;\">\n",
       "      <th></th>\n",
       "      <th>ligand_name</th>\n",
       "      <th>ligand_smiles</th>\n",
       "      <th>electrophile_name</th>\n",
       "      <th>electrophile_id</th>\n",
       "      <th>electrophile_smiles</th>\n",
       "      <th>nucleophile_name</th>\n",
       "      <th>nucleophile_id</th>\n",
       "      <th>nucleophile_smiles</th>\n",
       "      <th>product_smiles</th>\n",
       "      <th>yield</th>\n",
       "    </tr>\n",
       "  </thead>\n",
       "  <tbody>\n",
       "    <tr>\n",
       "      <th>0</th>\n",
       "      <td>A-caPhos</td>\n",
       "      <td>CN(C)c1ccc(P(C2CCCCC2)C2CCCCC2)cc1</td>\n",
       "      <td>Ethyl 4-bromo-1-ethylpyrrole-2-carboxylate</td>\n",
       "      <td>e1</td>\n",
       "      <td>CCOC(=O)c1cc(Br)cn1CC</td>\n",
       "      <td>2-Isopropyl-1-methyl-1H-imidazole</td>\n",
       "      <td>nD</td>\n",
       "      <td>CC(C)c1nccn1C</td>\n",
       "      <td>CCOC(=O)c1cc(-c2cnc(C(C)C)n2C)cn1CC</td>\n",
       "      <td>4.68</td>\n",
       "    </tr>\n",
       "    <tr>\n",
       "      <th>1</th>\n",
       "      <td>BrettPhos</td>\n",
       "      <td>COc1ccc(OC)c(P(C2CCCCC2)C2CCCCC2)c1-c1c(C(C)C)...</td>\n",
       "      <td>Ethyl 4-bromo-1-ethylpyrrole-2-carboxylate</td>\n",
       "      <td>e1</td>\n",
       "      <td>CCOC(=O)c1cc(Br)cn1CC</td>\n",
       "      <td>2-Isopropyl-1-methyl-1H-imidazole</td>\n",
       "      <td>nD</td>\n",
       "      <td>CC(C)c1nccn1C</td>\n",
       "      <td>CCOC(=O)c1cc(-c2cnc(C(C)C)n2C)cn1CC</td>\n",
       "      <td>1.83</td>\n",
       "    </tr>\n",
       "    <tr>\n",
       "      <th>2</th>\n",
       "      <td>CX-FBu</td>\n",
       "      <td>CCCCC1(c2c(c3c1cccc3)cccc2)P(C4CCCCC4)C5CCCCC5</td>\n",
       "      <td>Ethyl 4-bromo-1-ethylpyrrole-2-carboxylate</td>\n",
       "      <td>e1</td>\n",
       "      <td>CCOC(=O)c1cc(Br)cn1CC</td>\n",
       "      <td>2-Isopropyl-1-methyl-1H-imidazole</td>\n",
       "      <td>nD</td>\n",
       "      <td>CC(C)c1nccn1C</td>\n",
       "      <td>CCOC(=O)c1cc(-c2cnc(C(C)C)n2C)cn1CC</td>\n",
       "      <td>2.04</td>\n",
       "    </tr>\n",
       "    <tr>\n",
       "      <th>3</th>\n",
       "      <td>CX-PICy</td>\n",
       "      <td>Cc1cc(C)c(-n2ccnc2P(C2CCCCC2)C2CCCCC2)c(C)c1</td>\n",
       "      <td>Ethyl 4-bromo-1-ethylpyrrole-2-carboxylate</td>\n",
       "      <td>e1</td>\n",
       "      <td>CCOC(=O)c1cc(Br)cn1CC</td>\n",
       "      <td>2-Isopropyl-1-methyl-1H-imidazole</td>\n",
       "      <td>nD</td>\n",
       "      <td>CC(C)c1nccn1C</td>\n",
       "      <td>CCOC(=O)c1cc(-c2cnc(C(C)C)n2C)cn1CC</td>\n",
       "      <td>25.64</td>\n",
       "    </tr>\n",
       "    <tr>\n",
       "      <th>4</th>\n",
       "      <td>Cy-DavePhos</td>\n",
       "      <td>CN(C)c1ccccc1-c1ccccc1P(C1CCCCC1)C1CCCCC1</td>\n",
       "      <td>Ethyl 4-bromo-1-ethylpyrrole-2-carboxylate</td>\n",
       "      <td>e1</td>\n",
       "      <td>CCOC(=O)c1cc(Br)cn1CC</td>\n",
       "      <td>2-Isopropyl-1-methyl-1H-imidazole</td>\n",
       "      <td>nD</td>\n",
       "      <td>CC(C)c1nccn1C</td>\n",
       "      <td>CCOC(=O)c1cc(-c2cnc(C(C)C)n2C)cn1CC</td>\n",
       "      <td>6.64</td>\n",
       "    </tr>\n",
       "    <tr>\n",
       "      <th>...</th>\n",
       "      <td>...</td>\n",
       "      <td>...</td>\n",
       "      <td>...</td>\n",
       "      <td>...</td>\n",
       "      <td>...</td>\n",
       "      <td>...</td>\n",
       "      <td>...</td>\n",
       "      <td>...</td>\n",
       "      <td>...</td>\n",
       "      <td>...</td>\n",
       "    </tr>\n",
       "    <tr>\n",
       "      <th>1531</th>\n",
       "      <td>PCy3 HBF4</td>\n",
       "      <td>C1(P(C2CCCCC2)C3CCCCC3)CCCCC1</td>\n",
       "      <td>2-Bromobiphenyl</td>\n",
       "      <td>e4</td>\n",
       "      <td>Brc1ccccc1-c1ccccc1</td>\n",
       "      <td>1-Benzyl-2,4-dimethyl-1H-imidazole</td>\n",
       "      <td>nE</td>\n",
       "      <td>Cc1cn(Cc2ccccc2)c(C)n1</td>\n",
       "      <td>Cc1nc(C)n(Cc2ccccc2)c1-c1ccccc1-c1ccccc1</td>\n",
       "      <td>0.00</td>\n",
       "    </tr>\n",
       "    <tr>\n",
       "      <th>1532</th>\n",
       "      <td>CgMe-PPh</td>\n",
       "      <td>CC12CC3(C)OC(C)(CC(C)(O1)P3c1ccccc1)O2</td>\n",
       "      <td>2-Bromobiphenyl</td>\n",
       "      <td>e4</td>\n",
       "      <td>Brc1ccccc1-c1ccccc1</td>\n",
       "      <td>1-Benzyl-2,4-dimethyl-1H-imidazole</td>\n",
       "      <td>nE</td>\n",
       "      <td>Cc1cn(Cc2ccccc2)c(C)n1</td>\n",
       "      <td>Cc1nc(C)n(Cc2ccccc2)c1-c1ccccc1-c1ccccc1</td>\n",
       "      <td>0.00</td>\n",
       "    </tr>\n",
       "    <tr>\n",
       "      <th>1533</th>\n",
       "      <td>PPh3</td>\n",
       "      <td>c1ccc(P(c2ccccc2)c2ccccc2)cc1</td>\n",
       "      <td>2-Bromobiphenyl</td>\n",
       "      <td>e4</td>\n",
       "      <td>Brc1ccccc1-c1ccccc1</td>\n",
       "      <td>1-Benzyl-2,4-dimethyl-1H-imidazole</td>\n",
       "      <td>nE</td>\n",
       "      <td>Cc1cn(Cc2ccccc2)c(C)n1</td>\n",
       "      <td>Cc1nc(C)n(Cc2ccccc2)c1-c1ccccc1-c1ccccc1</td>\n",
       "      <td>0.00</td>\n",
       "    </tr>\n",
       "    <tr>\n",
       "      <th>1534</th>\n",
       "      <td>X-Phos</td>\n",
       "      <td>CC(C)c1cc(C(C)C)c(-c2ccccc2P(C2CCCCC2)C2CCCCC2...</td>\n",
       "      <td>2-Bromobiphenyl</td>\n",
       "      <td>e4</td>\n",
       "      <td>Brc1ccccc1-c1ccccc1</td>\n",
       "      <td>1-Benzyl-2,4-dimethyl-1H-imidazole</td>\n",
       "      <td>nE</td>\n",
       "      <td>Cc1cn(Cc2ccccc2)c(C)n1</td>\n",
       "      <td>Cc1nc(C)n(Cc2ccccc2)c1-c1ccccc1-c1ccccc1</td>\n",
       "      <td>0.00</td>\n",
       "    </tr>\n",
       "    <tr>\n",
       "      <th>1535</th>\n",
       "      <td>PnBu3 HBF4</td>\n",
       "      <td>CCCCP(CCCC)CCCC</td>\n",
       "      <td>2-Bromobiphenyl</td>\n",
       "      <td>e4</td>\n",
       "      <td>Brc1ccccc1-c1ccccc1</td>\n",
       "      <td>1-Benzyl-2,4-dimethyl-1H-imidazole</td>\n",
       "      <td>nE</td>\n",
       "      <td>Cc1cn(Cc2ccccc2)c(C)n1</td>\n",
       "      <td>Cc1nc(C)n(Cc2ccccc2)c1-c1ccccc1-c1ccccc1</td>\n",
       "      <td>0.00</td>\n",
       "    </tr>\n",
       "  </tbody>\n",
       "</table>\n",
       "<p>1536 rows × 10 columns</p>\n",
       "</div>"
      ],
      "text/plain": [
       "      ligand_name                                      ligand_smiles  \\\n",
       "0        A-caPhos                 CN(C)c1ccc(P(C2CCCCC2)C2CCCCC2)cc1   \n",
       "1       BrettPhos  COc1ccc(OC)c(P(C2CCCCC2)C2CCCCC2)c1-c1c(C(C)C)...   \n",
       "2          CX-FBu     CCCCC1(c2c(c3c1cccc3)cccc2)P(C4CCCCC4)C5CCCCC5   \n",
       "3         CX-PICy       Cc1cc(C)c(-n2ccnc2P(C2CCCCC2)C2CCCCC2)c(C)c1   \n",
       "4     Cy-DavePhos          CN(C)c1ccccc1-c1ccccc1P(C1CCCCC1)C1CCCCC1   \n",
       "...           ...                                                ...   \n",
       "1531    PCy3 HBF4                      C1(P(C2CCCCC2)C3CCCCC3)CCCCC1   \n",
       "1532     CgMe-PPh             CC12CC3(C)OC(C)(CC(C)(O1)P3c1ccccc1)O2   \n",
       "1533         PPh3                      c1ccc(P(c2ccccc2)c2ccccc2)cc1   \n",
       "1534       X-Phos  CC(C)c1cc(C(C)C)c(-c2ccccc2P(C2CCCCC2)C2CCCCC2...   \n",
       "1535   PnBu3 HBF4                                    CCCCP(CCCC)CCCC   \n",
       "\n",
       "                               electrophile_name electrophile_id  \\\n",
       "0     Ethyl 4-bromo-1-ethylpyrrole-2-carboxylate              e1   \n",
       "1     Ethyl 4-bromo-1-ethylpyrrole-2-carboxylate              e1   \n",
       "2     Ethyl 4-bromo-1-ethylpyrrole-2-carboxylate              e1   \n",
       "3     Ethyl 4-bromo-1-ethylpyrrole-2-carboxylate              e1   \n",
       "4     Ethyl 4-bromo-1-ethylpyrrole-2-carboxylate              e1   \n",
       "...                                          ...             ...   \n",
       "1531                             2-Bromobiphenyl              e4   \n",
       "1532                             2-Bromobiphenyl              e4   \n",
       "1533                             2-Bromobiphenyl              e4   \n",
       "1534                             2-Bromobiphenyl              e4   \n",
       "1535                             2-Bromobiphenyl              e4   \n",
       "\n",
       "        electrophile_smiles                    nucleophile_name  \\\n",
       "0     CCOC(=O)c1cc(Br)cn1CC   2-Isopropyl-1-methyl-1H-imidazole   \n",
       "1     CCOC(=O)c1cc(Br)cn1CC   2-Isopropyl-1-methyl-1H-imidazole   \n",
       "2     CCOC(=O)c1cc(Br)cn1CC   2-Isopropyl-1-methyl-1H-imidazole   \n",
       "3     CCOC(=O)c1cc(Br)cn1CC   2-Isopropyl-1-methyl-1H-imidazole   \n",
       "4     CCOC(=O)c1cc(Br)cn1CC   2-Isopropyl-1-methyl-1H-imidazole   \n",
       "...                     ...                                 ...   \n",
       "1531    Brc1ccccc1-c1ccccc1  1-Benzyl-2,4-dimethyl-1H-imidazole   \n",
       "1532    Brc1ccccc1-c1ccccc1  1-Benzyl-2,4-dimethyl-1H-imidazole   \n",
       "1533    Brc1ccccc1-c1ccccc1  1-Benzyl-2,4-dimethyl-1H-imidazole   \n",
       "1534    Brc1ccccc1-c1ccccc1  1-Benzyl-2,4-dimethyl-1H-imidazole   \n",
       "1535    Brc1ccccc1-c1ccccc1  1-Benzyl-2,4-dimethyl-1H-imidazole   \n",
       "\n",
       "     nucleophile_id      nucleophile_smiles  \\\n",
       "0                nD           CC(C)c1nccn1C   \n",
       "1                nD           CC(C)c1nccn1C   \n",
       "2                nD           CC(C)c1nccn1C   \n",
       "3                nD           CC(C)c1nccn1C   \n",
       "4                nD           CC(C)c1nccn1C   \n",
       "...             ...                     ...   \n",
       "1531             nE  Cc1cn(Cc2ccccc2)c(C)n1   \n",
       "1532             nE  Cc1cn(Cc2ccccc2)c(C)n1   \n",
       "1533             nE  Cc1cn(Cc2ccccc2)c(C)n1   \n",
       "1534             nE  Cc1cn(Cc2ccccc2)c(C)n1   \n",
       "1535             nE  Cc1cn(Cc2ccccc2)c(C)n1   \n",
       "\n",
       "                                product_smiles  yield  \n",
       "0          CCOC(=O)c1cc(-c2cnc(C(C)C)n2C)cn1CC   4.68  \n",
       "1          CCOC(=O)c1cc(-c2cnc(C(C)C)n2C)cn1CC   1.83  \n",
       "2          CCOC(=O)c1cc(-c2cnc(C(C)C)n2C)cn1CC   2.04  \n",
       "3          CCOC(=O)c1cc(-c2cnc(C(C)C)n2C)cn1CC  25.64  \n",
       "4          CCOC(=O)c1cc(-c2cnc(C(C)C)n2C)cn1CC   6.64  \n",
       "...                                        ...    ...  \n",
       "1531  Cc1nc(C)n(Cc2ccccc2)c1-c1ccccc1-c1ccccc1   0.00  \n",
       "1532  Cc1nc(C)n(Cc2ccccc2)c1-c1ccccc1-c1ccccc1   0.00  \n",
       "1533  Cc1nc(C)n(Cc2ccccc2)c1-c1ccccc1-c1ccccc1   0.00  \n",
       "1534  Cc1nc(C)n(Cc2ccccc2)c1-c1ccccc1-c1ccccc1   0.00  \n",
       "1535  Cc1nc(C)n(Cc2ccccc2)c1-c1ccccc1-c1ccccc1   0.00  \n",
       "\n",
       "[1536 rows x 10 columns]"
      ]
     },
     "execution_count": 9,
     "metadata": {},
     "output_type": "execute_result"
    }
   ],
   "source": [
    "df"
   ]
  },
  {
   "cell_type": "code",
   "execution_count": 14,
   "metadata": {},
   "outputs": [],
   "source": [
    "unique_ligands = df.ligand_smiles.unique()\n",
    "unique_electros = df.electrophile_smiles.unique()\n",
    "unique_nucles = df.nucleophile_smiles.unique()\n",
    "ligand_fingerprints = [Chem.RDKFingerprint(Chem.MolFromSmiles(x)) for x in unique_ligands]\n",
    "electro_fingerprints = [Chem.RDKFingerprint(Chem.MolFromSmiles(x)) for x in unique_electros]\n",
    "nucle_fingerprints = [Chem.RDKFingerprint(Chem.MolFromSmiles(x)) for x in unique_nucles]"
   ]
  },
  {
   "cell_type": "code",
   "execution_count": 12,
   "metadata": {},
   "outputs": [],
   "source": [
    "import pickle\n",
    "# fingerprint features are named based on the column in the dataset they correspond to\n",
    "fingerprints = {\"ligand_name\": ligand_fingerprints,\n",
    "                \"electrophile_id\": electro_fingerprints,\n",
    "                \"electrophile_id\": nucle_fingerprints}"
   ]
  },
  {
   "cell_type": "code",
   "execution_count": 13,
   "metadata": {},
   "outputs": [],
   "source": [
    "pickle.dump(fingerprints, open('real_datasets/aryl-scope-ligand-fingerprints.pkl', 'wb+'))"
   ]
  }
 ],
 "metadata": {
  "kernelspec": {
   "display_name": "cond_set",
   "language": "python",
   "name": "python3"
  },
  "language_info": {
   "codemirror_mode": {
    "name": "ipython",
    "version": 3
   },
   "file_extension": ".py",
   "mimetype": "text/x-python",
   "name": "python",
   "nbconvert_exporter": "python",
   "pygments_lexer": "ipython3",
   "version": "3.12.3"
  }
 },
 "nbformat": 4,
 "nbformat_minor": 2
}
